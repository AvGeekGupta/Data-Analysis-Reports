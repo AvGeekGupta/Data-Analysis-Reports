{
 "cells": [
  {
   "cell_type": "markdown",
   "id": "4399305b-4977-4ac6-8c65-a8ec8229f8bb",
   "metadata": {},
   "source": [
    "# Data Analysis: World Data 2023\n",
    "\n",
    "## Objective\n",
    "Purpose of this prject is to gather some interesting insights out of this data.\n",
    "\n",
    "## Tech Stack\n",
    "**Programming Language:** Python\n",
    "\n",
    "**Libraries:** Numpy, Pandas, Seaborn\n",
    "\n",
    "**Algorithms:**"
   ]
  },
  {
   "cell_type": "code",
   "execution_count": null,
   "id": "ef2b7163-1f21-4991-9b9f-5819be0d3248",
   "metadata": {
    "editable": true,
    "slideshow": {
     "slide_type": ""
    },
    "tags": []
   },
   "outputs": [],
   "source": [
    "# This Python 3 environment comes with many helpful analytics libraries installed\n",
    "# It is defined by the kaggle/python Docker image: https://github.com/kaggle/docker-python\n",
    "# For example, here's several helpful packages to load\n",
    "\n",
    "import numpy as np # linear algebra\n",
    "import pandas as pd # data processing, CSV file I/O (e.g. pd.read_csv)\n",
    "import seaborn as sns # data visualization\n",
    "\n",
    "# Input data files are available in the read-only \"../input/\" directory\n",
    "# For example, running this (by clicking run or pressing Shift+Enter) will list all files under the input directory\n",
    "\n",
    "# For Kaggle environment\n",
    "\"\"\"\n",
    "import os\n",
    "for dirname, _, filenames in os.walk('/kaggle/input'):\n",
    "    for filename in filenames:\n",
    "        print(os.path.join(dirname, filename))\n",
    "\"\"\"\n",
    "        \n",
    "# You can write up to 20GB to the current directory (/kaggle/working/) that gets preserved as output when you create a version using \"Save & Run All\" \n",
    "# You can also write temporary files to /kaggle/temp/, but they won't be saved outside of the current session"
   ]
  },
  {
   "cell_type": "code",
   "execution_count": null,
   "id": "64c6cb14-e7c6-41df-a074-4ffa69355c20",
   "metadata": {},
   "outputs": [],
   "source": [
    "# Loading the data set and having a first look at it\n",
    "\n",
    "dataset = pd.read_csv(\"./world-data-2023.csv\")\n",
    "print(dataset.head(5))"
   ]
  },
  {
   "cell_type": "markdown",
   "id": "6f012dc6-f68e-4fa4-8b6e-737365acca9e",
   "metadata": {},
   "source": [
    "## Features\n",
    "\n",
    "Let's have a deeper look at the features of the dataset."
   ]
  },
  {
   "cell_type": "code",
   "execution_count": null,
   "id": "8d63efd3-a283-4c8d-889b-989d2145ca84",
   "metadata": {},
   "outputs": [],
   "source": [
    "# Let's see what columns are we working with\n",
    "columns = dataset.columns\n",
    "\n",
    "print(columns)"
   ]
  },
  {
   "cell_type": "markdown",
   "id": "f0ece84c-6fb9-438e-9845-bfdd59abd96a",
   "metadata": {},
   "source": [
    "### Features guide\n",
    "\n",
    "**Country:** Name of the country\n",
    "\n",
    "**Density (P/Km2):** Population density measured in persons per square kilometer\n",
    "\n",
    "**Abbreviation:** Abbreviation or code representing the country\n",
    "\n",
    "**Agricultural Land (%):** Percentage of land area used for agricultural purposes\n",
    "\n",
    "**Land Area (Km2):** Total land area of the country in square kilometer\n",
    "\n",
    "**Armed Forces Size:** Size of the armed forces in the country\n",
    "\n",
    "**Birth Rate:** Number of births per 1,000 population per year\n",
    "\n",
    "**Calling Code:** International calling code for the country\n",
    "\n",
    "**Capital/Major City:** Name of the capital or major city\n",
    "\n",
    "**CO2 Emissions:** Carbon dioxide emissions in tons\n",
    "\n",
    "**CPI:** Consumer Price Index, a measure of inflation and purchasing power\n",
    "\n",
    "**CPI Change (%):** Percentage change in the Consumer Price Index compared to the previous year\n",
    "\n",
    "**Currency_Code:** Currency code used in the country\n",
    "\n",
    "**Fertility Rate:** Average number of children born to a woman during her lifetime\n",
    "\n",
    "**Forested Area (%):** Percentage of land area covered by forests\n",
    "\n",
    "**Gasoline_Price:** Price of gasoline per liter in local currency\n",
    "\n",
    "**GDP:** Gross Domestic Product, the total value of goods and services produced in the country\n",
    "\n",
    "**Gross Primary Education Enrollment (%):** Gross enrollment ratio for primary education\n",
    "\n",
    "**Gross Tertiary Education Enrollment (%):** Gross enrollment ratio for tertiary education\n",
    "\n",
    "**Infant Mortality:** Number of deaths per 1,000 live births before reaching one year of age\n",
    "\n",
    "**Largest City:** Name of the country's largest city\n",
    "\n",
    "**Life Expectancy:** Average number of years a newborn is expected to live\n",
    "\n",
    "**Maternal Mortality Ratio:** Number of maternal deaths per 100,000 live births\n",
    "\n",
    "**Minimum Wage:** Minimum wage level in local currency\n",
    "\n",
    "**Official Language:** Official language(s) spoken in the country\n",
    "\n",
    "**Out of Pocket Health Expenditure (%):** Percentage of total health expenditure paid out-of-pocket by individuals\n",
    "\n",
    "**Physicians per Thousand:** Number of physicians per thousand people\n",
    "\n",
    "**Population:** Total population of the country\n",
    "\n",
    "**Population:** Labor Force Participation (%): Percentage of the population that is part of the labor force\n",
    "\n",
    "**Tax Revenue (%):** Tax revenue as a percentage of GDP\n",
    "\n",
    "**Total Tax Rate:** Overall tax burden as a percentage of commercial profits\n",
    "\n",
    "**Unemployment Rate:** Percentage of the labor force that is unemployed\n",
    "\n",
    "**Urban Population:** Percentage of the population living in urban areas\n",
    "\n",
    "**Latitude:** Latitude coordinate of the country's location\n",
    "\n",
    "**Longitude:** Longitude coordinate of the country's location"
   ]
  },
  {
   "cell_type": "code",
   "execution_count": null,
   "id": "8eef9bd0-beb2-4ea3-be87-5532a9e934ed",
   "metadata": {},
   "outputs": [],
   "source": [
    "# Let's see what datatype these features are\n",
    "\n",
    "print(dataset.dtypes)"
   ]
  },
  {
   "cell_type": "markdown",
   "id": "b5831f0d-fc6a-4d5e-8143-350b174757c3",
   "metadata": {},
   "source": [
    "As there are so many features with object datatype, which should have been int or float, I suspect that there are null values present in the dataset."
   ]
  },
  {
   "cell_type": "code",
   "execution_count": null,
   "id": "dd3b0265-9296-40b3-a85e-00ccc8e92920",
   "metadata": {},
   "outputs": [],
   "source": [
    "# Let's have a look at the columns having null values in the dataset\n",
    "\n",
    "print(dataset.isnull().sum())"
   ]
  },
  {
   "cell_type": "markdown",
   "id": "f4533565-5903-4148-b4ba-be7f1e37508a",
   "metadata": {},
   "source": [
    "There are numerous columns containing null values. The initial impulse might be to drop the rows with missing data, but since this dataset is not intended for machine learning, doing so would lead to the exclusion of entire countries, introducing potential biases or skewed outcomes. Moreover, valuable insights from these countries could be lost.\r\n",
    "\r\n",
    "To address these concernsIwe propose marking numerical null values as \"-1\" and string-based null values as \"NULL\". This approach effectively indicates that the data was initially empty, ensuring that we retain all potential important insights without compromising the integrity of our results.\r\n",
    "\r\n",
    "Upon examining the dataset, we observe two columns, namely \"Longitude\" and \"Latitude,\" which cannot be marked as -1 since their valid range is from -180 to 180. To handle null values in these columns, we will fill them with a default value of 1000."
   ]
  },
  {
   "cell_type": "code",
   "execution_count": null,
   "id": "efc862a1-9ac3-4509-8144-eecc118d67d1",
   "metadata": {},
   "outputs": [],
   "source": [
    "# Let's fill all the numeric columns with -1\n",
    "\n",
    "dataset[columns[3]].fillna(-1, inplace=True)\n",
    "dataset[columns[4]].fillna(-1, inplace=True)\n",
    "dataset[columns[5]].fillna(-1, inplace=True)\n",
    "dataset[columns[6]].fillna(-1, inplace=True)\n",
    "dataset[columns[7]].fillna(-1, inplace=True)\n",
    "dataset[columns[9]].fillna(-1, inplace=True)\n",
    "dataset[columns[10]].fillna(-1, inplace=True)\n",
    "dataset[columns[11]].fillna(-1, inplace=True)\n",
    "dataset[columns[13]].fillna(-1, inplace=True)\n",
    "dataset[columns[14]].fillna(-1, inplace=True)\n",
    "dataset[columns[15]].fillna(-1, inplace=True)\n",
    "dataset[columns[16]].fillna(-1, inplace=True)\n",
    "dataset[columns[17]].fillna(-1, inplace=True)\n",
    "dataset[columns[18]].fillna(-1, inplace=True)\n",
    "dataset[columns[19]].fillna(-1, inplace=True)\n",
    "dataset[columns[21]].fillna(-1, inplace=True)\n",
    "dataset[columns[22]].fillna(-1, inplace=True)\n",
    "dataset[columns[23]].fillna(-1, inplace=True)\n",
    "dataset[columns[25]].fillna(-1, inplace=True)\n",
    "dataset[columns[26]].fillna(-1, inplace=True)\n",
    "dataset[columns[27]].fillna(-1, inplace=True)\n",
    "dataset[columns[28]].fillna(-1, inplace=True)\n",
    "dataset[columns[29]].fillna(-1, inplace=True)\n",
    "dataset[columns[30]].fillna(-1, inplace=True)\n",
    "dataset[columns[31]].fillna(-1, inplace=True)\n",
    "dataset[columns[32]].fillna(-1, inplace=True)\n",
    "\n",
    "# Let's fill all the textual columns with the string \"NULL\"\n",
    "dataset[columns[2]].fillna(\"NULL\", inplace=True)\n",
    "dataset[columns[8]].fillna(\"NULL\", inplace=True)\n",
    "dataset[columns[12]].fillna(\"NULL\", inplace=True)\n",
    "dataset[columns[20]].fillna(\"NULL\", inplace=True)\n",
    "dataset[columns[24]].fillna(\"NULL\", inplace=True)\n",
    "\n",
    "# Let's fill the \"Longitude\" and \"Latitude\" with 1000\n",
    "dataset[columns[33]].fillna(1000, inplace=True)\n",
    "dataset[columns[34]].fillna(1000, inplace=True)"
   ]
  },
  {
   "cell_type": "code",
   "execution_count": null,
   "id": "635a3318-e0bb-4b98-8521-e0c4506750b4",
   "metadata": {},
   "outputs": [],
   "source": [
    "# Now Let's see if we have any null values left in our dataset or not...\n",
    "\n",
    "print(dataset.isnull().sum())"
   ]
  },
  {
   "cell_type": "markdown",
   "id": "8f9d8028-6ebe-46f4-b4b1-02a4f5215240",
   "metadata": {},
   "source": [
    "## 🚧 Work in progress\n",
    "Please note that the analysis is not yet complete, and there may be areas that require further attention and refinement. Your feedback on the current work done would be invaluable in helping me identify potential improvements and areas where I can delve deeper for more insights. As I continue to work on this project, I aim to provide a comprehensive and accurate analysis. Your inputs as a fresh pair of eyes will be highly appreciated in making this data analysis report more robust and informative. Thank you for your time and support in this endeavor.\n",
    "\n",
    "## 🤝🏼 Let's Collaborate!\r\n",
    "\r\n",
    "I'm always looking for exciting projects and collaborations. If you have suggestions, improvements, or would like to contribute your analysis on a Kaggle dataset, I encourage you to open an issue or create a pull request. Let's connect and create something awesome together!\r\n",
    "\r\n",
    "<div align=\"center\">\r\n",
    "\t<a href=\"https://twitter.com/avgeekgupta\" target=\"_bone;\">\r\n",
    "\t\t<img src=\"https://abs.twimg.com/responsive-web/client-web/icon-ios.b1fc727awidthheight=\"35\"> &nbsp; &nbsp;\r\n",
    "\t</a>\r\n",
    "\t<a href=\"https://www.linkedin.com/in/avgeekgupta\" target=: none;\">\r\n",
    "\t\t<img src=\"https://static.licdn.com/sc/h/eahiplrwoq61f4uan0widthi\" height=\"35\"> &nbsp; &nbsp;\r\n",
    "\t</a>\r\n",
    "    <a href=\"https://www.kaggle.com/avgeekgupta\" targion: none;\">\r\n",
    "\t\t<img src=\"https://www.kaggle.com/static/images/fwidth.ico\" height=\"35\"> &nbsp; &nbsp;\r\n",
    "\t</a>\r\n",
    "    <a href=\"https://avgeekgupta.me\" tration: none;\">\r\n",
    "\t\t<img src=\"https://cdn-icons-png.flaticon.com/512/560width732.png\" height=\"35\"> &nbsp; &nbsp;\r\n",
    "\t</a>\r\n",
    "    <a href=\"mailto:u8karsecoration: none;\">\r\n",
    "\t\t<img src=\"https://ssl.gstatic.com/ui/v1/icons/mawidth/gmail.ico\" height=\"35\"> &nbsp; &nbsp;\r\n",
    "\t</a>\r\n",
    "    <a hreft-decoration: none;\">\r\n",
    "\t\t<img src=\"https://raw.githubusercontent.com/AvGeekGupta/AvGeekGupta/master/publwidthets/phone.png\" height=\"35\">\r\n",
    "\t</a>\r\n",
    "</div>\r\n",
    "\r\n",
    "<hr>\r\n",
    "\r\n",
    "<sueel free  or useto c part of the codelfrome, fork, or download any of the reports to learn, share, and enrich your understandianalysinga analysis. Happy exploring! 🚀</sup>"
   ]
  },
  {
   "cell_type": "code",
   "execution_count": null,
   "id": "f34d2d41-5ee2-4936-b000-3bf42a18523a",
   "metadata": {},
   "outputs": [],
   "source": []
  }
 ],
 "metadata": {
  "kernelspec": {
   "display_name": "Python 3 (ipykernel)",
   "language": "python",
   "name": "python3"
  },
  "language_info": {
   "codemirror_mode": {
    "name": "ipython",
    "version": 3
   },
   "file_extension": ".py",
   "mimetype": "text/x-python",
   "name": "python",
   "nbconvert_exporter": "python",
   "pygments_lexer": "ipython3",
   "version": "3.11.3"
  }
 },
 "nbformat": 4,
 "nbformat_minor": 5
}

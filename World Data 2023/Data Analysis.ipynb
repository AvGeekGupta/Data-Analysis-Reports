{
 "cells": [
  {
   "cell_type": "markdown",
   "id": "4399305b-4977-4ac6-8c65-a8ec8229f8bb",
   "metadata": {},
   "source": [
    "# Data Analysis: World Data 2023\n",
    "\n",
    "## Objective\n",
    "Purpose of this prject is to gather some interesting insights out of this data.\n",
    "\n",
    "## Tech Stack\n",
    "**Programming Language:** Python\n",
    "\n",
    "**Libraries:** Numpy, Pandas, Seaborn\n",
    "\n",
    "**Algorithms:**"
   ]
  },
  {
   "cell_type": "code",
   "execution_count": 1,
   "id": "ef2b7163-1f21-4991-9b9f-5819be0d3248",
   "metadata": {
    "editable": true,
    "slideshow": {
     "slide_type": ""
    },
    "tags": []
   },
   "outputs": [
    {
     "data": {
      "text/plain": [
       "\"\\nimport os\\nfor dirname, _, filenames in os.walk('/kaggle/input'):\\n    for filename in filenames:\\n        print(os.path.join(dirname, filename))\\n\""
      ]
     },
     "execution_count": 1,
     "metadata": {},
     "output_type": "execute_result"
    }
   ],
   "source": [
    "# This Python 3 environment comes with many helpful analytics libraries installed\n",
    "# It is defined by the kaggle/python Docker image: https://github.com/kaggle/docker-python\n",
    "# For example, here's several helpful packages to load\n",
    "\n",
    "import numpy as np # linear algebra\n",
    "import pandas as pd # data processing, CSV file I/O (e.g. pd.read_csv)\n",
    "import seaborn as sns # data visualization\n",
    "\n",
    "# Input data files are available in the read-only \"../input/\" directory\n",
    "# For example, running this (by clicking run or pressing Shift+Enter) will list all files under the input directory\n",
    "\n",
    "# For Kaggle environment\n",
    "\"\"\"\n",
    "import os\n",
    "for dirname, _, filenames in os.walk('/kaggle/input'):\n",
    "    for filename in filenames:\n",
    "        print(os.path.join(dirname, filename))\n",
    "\"\"\"\n",
    "        \n",
    "# You can write up to 20GB to the current directory (/kaggle/working/) that gets preserved as output when you create a version using \"Save & Run All\" \n",
    "# You can also write temporary files to /kaggle/temp/, but they won't be saved outside of the current session"
   ]
  },
  {
   "cell_type": "code",
   "execution_count": 2,
   "id": "64c6cb14-e7c6-41df-a074-4ffa69355c20",
   "metadata": {},
   "outputs": [
    {
     "name": "stdout",
     "output_type": "stream",
     "text": [
      "       Country Density\\n(P/Km2) Abbreviation Agricultural Land( %)   \n",
      "0  Afghanistan               60           AF                58.10%  \\\n",
      "1      Albania              105           AL                43.10%   \n",
      "2      Algeria               18           DZ                17.40%   \n",
      "3      Andorra              164           AD                40.00%   \n",
      "4       Angola               26           AO                47.50%   \n",
      "\n",
      "  Land Area(Km2) Armed Forces size  Birth Rate  Calling Code   \n",
      "0        652,230           323,000       32.49          93.0  \\\n",
      "1         28,748             9,000       11.78         355.0   \n",
      "2      2,381,741           317,000       24.28         213.0   \n",
      "3            468               NaN        7.20         376.0   \n",
      "4      1,246,700           117,000       40.73         244.0   \n",
      "\n",
      "  Capital/Major City Co2-Emissions  ... Out of pocket health expenditure   \n",
      "0              Kabul         8,672  ...                           78.40%  \\\n",
      "1             Tirana         4,536  ...                           56.90%   \n",
      "2            Algiers       150,006  ...                           28.10%   \n",
      "3   Andorra la Vella           469  ...                           36.40%   \n",
      "4             Luanda        34,693  ...                           33.40%   \n",
      "\n",
      "  Physicians per thousand  Population   \n",
      "0                    0.28  38,041,754  \\\n",
      "1                    1.20   2,854,191   \n",
      "2                    1.72  43,053,054   \n",
      "3                    3.33      77,142   \n",
      "4                    0.21  31,825,295   \n",
      "\n",
      "   Population: Labor force participation (%) Tax revenue (%) Total tax rate   \n",
      "0                                     48.90%           9.30%         71.40%  \\\n",
      "1                                     55.70%          18.60%         36.60%   \n",
      "2                                     41.20%          37.20%         66.10%   \n",
      "3                                        NaN             NaN            NaN   \n",
      "4                                     77.50%           9.20%         49.10%   \n",
      "\n",
      "  Unemployment rate Urban_population   Latitude  Longitude  \n",
      "0            11.12%        9,797,273  33.939110  67.709953  \n",
      "1            12.33%        1,747,593  41.153332  20.168331  \n",
      "2            11.70%       31,510,100  28.033886   1.659626  \n",
      "3               NaN           67,873  42.506285   1.521801  \n",
      "4             6.89%       21,061,025 -11.202692  17.873887  \n",
      "\n",
      "[5 rows x 35 columns]\n"
     ]
    }
   ],
   "source": [
    "# Loading the data set and having a first look at it\n",
    "\n",
    "dataset = pd.read_csv(\"./world-data-2023.csv\")\n",
    "print(dataset.head(5))"
   ]
  },
  {
   "cell_type": "markdown",
   "id": "6f012dc6-f68e-4fa4-8b6e-737365acca9e",
   "metadata": {},
   "source": [
    "## Features\n",
    "\n",
    "Let's have a deeper look at the features of the dataset."
   ]
  },
  {
   "cell_type": "code",
   "execution_count": 3,
   "id": "8d63efd3-a283-4c8d-889b-989d2145ca84",
   "metadata": {},
   "outputs": [
    {
     "name": "stdout",
     "output_type": "stream",
     "text": [
      "Index(['Country', 'Density\\n(P/Km2)', 'Abbreviation', 'Agricultural Land( %)',\n",
      "       'Land Area(Km2)', 'Armed Forces size', 'Birth Rate', 'Calling Code',\n",
      "       'Capital/Major City', 'Co2-Emissions', 'CPI', 'CPI Change (%)',\n",
      "       'Currency-Code', 'Fertility Rate', 'Forested Area (%)',\n",
      "       'Gasoline Price', 'GDP', 'Gross primary education enrollment (%)',\n",
      "       'Gross tertiary education enrollment (%)', 'Infant mortality',\n",
      "       'Largest city', 'Life expectancy', 'Maternal mortality ratio',\n",
      "       'Minimum wage', 'Official language', 'Out of pocket health expenditure',\n",
      "       'Physicians per thousand', 'Population',\n",
      "       'Population: Labor force participation (%)', 'Tax revenue (%)',\n",
      "       'Total tax rate', 'Unemployment rate', 'Urban_population', 'Latitude',\n",
      "       'Longitude'],\n",
      "      dtype='object')\n"
     ]
    }
   ],
   "source": [
    "# Let's see what columns are we working with\n",
    "columns = dataset.columns\n",
    "\n",
    "print(columns)"
   ]
  },
  {
   "cell_type": "markdown",
   "id": "f0ece84c-6fb9-438e-9845-bfdd59abd96a",
   "metadata": {},
   "source": [
    "### Features guide\n",
    "\n",
    "**Country:** Name of the country\n",
    "\n",
    "**Density (P/Km2):** Population density measured in persons per square kilometer\n",
    "\n",
    "**Abbreviation:** Abbreviation or code representing the country\n",
    "\n",
    "**Agricultural Land (%):** Percentage of land area used for agricultural purposes\n",
    "\n",
    "**Land Area (Km2):** Total land area of the country in square kilometer\n",
    "\n",
    "**Armed Forces Size:** Size of the armed forces in the country\n",
    "\n",
    "**Birth Rate:** Number of births per 1,000 population per year\n",
    "\n",
    "**Calling Code:** International calling code for the country\n",
    "\n",
    "**Capital/Major City:** Name of the capital or major city\n",
    "\n",
    "**CO2 Emissions:** Carbon dioxide emissions in tons\n",
    "\n",
    "**CPI:** Consumer Price Index, a measure of inflation and purchasing power\n",
    "\n",
    "**CPI Change (%):** Percentage change in the Consumer Price Index compared to the previous year\n",
    "\n",
    "**Currency_Code:** Currency code used in the country\n",
    "\n",
    "**Fertility Rate:** Average number of children born to a woman during her lifetime\n",
    "\n",
    "**Forested Area (%):** Percentage of land area covered by forests\n",
    "\n",
    "**Gasoline_Price:** Price of gasoline per liter in local currency\n",
    "\n",
    "**GDP:** Gross Domestic Product, the total value of goods and services produced in the country\n",
    "\n",
    "**Gross Primary Education Enrollment (%):** Gross enrollment ratio for primary education\n",
    "\n",
    "**Gross Tertiary Education Enrollment (%):** Gross enrollment ratio for tertiary education\n",
    "\n",
    "**Infant Mortality:** Number of deaths per 1,000 live births before reaching one year of age\n",
    "\n",
    "**Largest City:** Name of the country's largest city\n",
    "\n",
    "**Life Expectancy:** Average number of years a newborn is expected to live\n",
    "\n",
    "**Maternal Mortality Ratio:** Number of maternal deaths per 100,000 live births\n",
    "\n",
    "**Minimum Wage:** Minimum wage level in local currency\n",
    "\n",
    "**Official Language:** Official language(s) spoken in the country\n",
    "\n",
    "**Out of Pocket Health Expenditure (%):** Percentage of total health expenditure paid out-of-pocket by individuals\n",
    "\n",
    "**Physicians per Thousand:** Number of physicians per thousand people\n",
    "\n",
    "**Population:** Total population of the country\n",
    "\n",
    "**Population:** Labor Force Participation (%): Percentage of the population that is part of the labor force\n",
    "\n",
    "**Tax Revenue (%):** Tax revenue as a percentage of GDP\n",
    "\n",
    "**Total Tax Rate:** Overall tax burden as a percentage of commercial profits\n",
    "\n",
    "**Unemployment Rate:** Percentage of the labor force that is unemployed\n",
    "\n",
    "**Urban Population:** Percentage of the population living in urban areas\n",
    "\n",
    "**Latitude:** Latitude coordinate of the country's location\n",
    "\n",
    "**Longitude:** Longitude coordinate of the country's location"
   ]
  },
  {
   "cell_type": "code",
   "execution_count": 4,
   "id": "8eef9bd0-beb2-4ea3-be87-5532a9e934ed",
   "metadata": {},
   "outputs": [
    {
     "name": "stdout",
     "output_type": "stream",
     "text": [
      "Country                                       object\n",
      "Density\\n(P/Km2)                              object\n",
      "Abbreviation                                  object\n",
      "Agricultural Land( %)                         object\n",
      "Land Area(Km2)                                object\n",
      "Armed Forces size                             object\n",
      "Birth Rate                                   float64\n",
      "Calling Code                                 float64\n",
      "Capital/Major City                            object\n",
      "Co2-Emissions                                 object\n",
      "CPI                                           object\n",
      "CPI Change (%)                                object\n",
      "Currency-Code                                 object\n",
      "Fertility Rate                               float64\n",
      "Forested Area (%)                             object\n",
      "Gasoline Price                                object\n",
      "GDP                                           object\n",
      "Gross primary education enrollment (%)        object\n",
      "Gross tertiary education enrollment (%)       object\n",
      "Infant mortality                             float64\n",
      "Largest city                                  object\n",
      "Life expectancy                              float64\n",
      "Maternal mortality ratio                     float64\n",
      "Minimum wage                                  object\n",
      "Official language                             object\n",
      "Out of pocket health expenditure              object\n",
      "Physicians per thousand                      float64\n",
      "Population                                    object\n",
      "Population: Labor force participation (%)     object\n",
      "Tax revenue (%)                               object\n",
      "Total tax rate                                object\n",
      "Unemployment rate                             object\n",
      "Urban_population                              object\n",
      "Latitude                                     float64\n",
      "Longitude                                    float64\n",
      "dtype: object\n"
     ]
    }
   ],
   "source": [
    "# Let's see what datatype these features are\n",
    "\n",
    "print(dataset.dtypes)"
   ]
  },
  {
   "cell_type": "code",
   "execution_count": null,
   "id": "0c30bd8a-71e4-43dc-a71a-a159f7c28606",
   "metadata": {},
   "outputs": [],
   "source": []
  }
 ],
 "metadata": {
  "kernelspec": {
   "display_name": "Python 3 (ipykernel)",
   "language": "python",
   "name": "python3"
  },
  "language_info": {
   "codemirror_mode": {
    "name": "ipython",
    "version": 3
   },
   "file_extension": ".py",
   "mimetype": "text/x-python",
   "name": "python",
   "nbconvert_exporter": "python",
   "pygments_lexer": "ipython3",
   "version": "3.11.3"
  }
 },
 "nbformat": 4,
 "nbformat_minor": 5
}

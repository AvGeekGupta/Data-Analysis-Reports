{
 "cells": [
  {
   "cell_type": "markdown",
   "id": "b686fb32-f63e-4761-9dfa-553284c140d2",
   "metadata": {},
   "source": [
    "# Data Pre-processing : Reddit r/developersindia Community Posts Raw\n",
    "\n",
    "**Problem Statement:** Prepare and clean data for analysis and modeling.]\n",
    "\n",
    "**Dataset:** https://www.kaggle.com/datasets/avgeekgupta/reddit-rdevelopersindia-community-posts-raw/\n",
    "\n",
    "**Description:** This file contains steps performed to remove nu;; values, duplicates and column manipulations used to prepare the data.delin."
   ]
  },
  {
   "cell_type": "code",
   "execution_count": null,
   "id": "2f020136-e55d-4b92-b502-77b61eede65a",
   "metadata": {},
   "outputs": [],
   "source": [
    "# Importing libraries\n",
    "\n",
    "import pandas\n",
    "import datetime"
   ]
  },
  {
   "cell_type": "code",
   "execution_count": null,
   "id": "c12d1f5c-cb5b-4c25-bb72-3f955f0be163",
   "metadata": {},
   "outputs": [],
   "source": [
    "# Loading the data\n",
    "\n",
    "data = pandas.read_csv(\"./data.csv\")\n",
    "\n",
    "data.head(5)"
   ]
  },
  {
   "cell_type": "code",
   "execution_count": null,
   "id": "428846bc-57a3-45ba-a002-ba6a6397000a",
   "metadata": {
    "scrolled": true
   },
   "outputs": [],
   "source": [
    "# looking at the columns\n",
    "\n",
    "data.info(verbose=True)"
   ]
  },
  {
   "cell_type": "code",
   "execution_count": null,
   "id": "6165440f-269f-4080-8086-7aae6f1118d3",
   "metadata": {},
   "outputs": [],
   "source": [
    "# Deleting columns which are null\n",
    "obj = data.isnull().sum()\n",
    "\n",
    "for key,value in obj.items():\n",
    "    if value == 2368:\n",
    "        print(\"Removed \" + key)\n",
    "        data.drop(key, inplace=True, axis=1)\n",
    "\n",
    "print(\"\\n\\nColumns left: \" + str(len(data.columns)))"
   ]
  },
  {
   "cell_type": "code",
   "execution_count": null,
   "id": "152c503f-9e9c-46fb-954e-b4fad3f32706",
   "metadata": {},
   "outputs": [],
   "source": [
    "# Removing columns with only 1 unique value in the column\n",
    "\n",
    "for column in data.columns:\n",
    "    if len(data[column].unique()) == 1:\n",
    "        print(\"Removed \" + column)\n",
    "        data.drop(column, inplace=True, axis=1)\n",
    "\n",
    "print(\"\\n\\nColumns left: \" + str(len(data.columns)))"
   ]
  },
  {
   "cell_type": "code",
   "execution_count": null,
   "id": "36c5bf9b-3e38-4b09-859c-fb16add8a473",
   "metadata": {},
   "outputs": [],
   "source": [
    "# Removing columns that contain color or template data\n",
    "\n",
    "for column in data.columns:\n",
    "    if \"color\" in column or \"template\" in column:\n",
    "        print(\"Removed \" + column)\n",
    "        data.drop(column, inplace=True, axis=1)\n",
    "\n",
    "print(\"\\n\\nColumns left: \" + str(len(data.columns)))"
   ]
  },
  {
   "cell_type": "code",
   "execution_count": null,
   "id": "51cff70f-f26f-4de7-8fba-53cf90bdfb74",
   "metadata": {},
   "outputs": [],
   "source": [
    "# Removing columns that contain media data\n",
    "\n",
    "for column in data.columns:\n",
    "    if \"thumbnail\" in column or \"preview\" in column or \"media\" in column or \"video\" in column or \"gallery\" in column:\n",
    "        print(\"Removed \" + column)\n",
    "        data.drop(column, inplace=True, axis=1)\n",
    "\n",
    "print(\"\\n\\nColumns left: \" + str(len(data.columns)))"
   ]
  },
  {
   "cell_type": "code",
   "execution_count": null,
   "id": "b6e672e9-327f-4298-97da-c2af7fd54561",
   "metadata": {},
   "outputs": [],
   "source": [
    "# Removing columns that contain html or richtext data\n",
    "\n",
    "for column in data.columns:\n",
    "    if \"html\" in column or \"richtext\" in column:\n",
    "        print(\"Removed \" + column)\n",
    "        data.drop(column, inplace=True, axis=1)\n",
    "\n",
    "print(\"\\n\\nColumns left: \" + str(len(data.columns)))"
   ]
  },
  {
   "cell_type": "code",
   "execution_count": null,
   "id": "d537123b-adcf-40cc-ae41-48b7e4a32d11",
   "metadata": {},
   "outputs": [],
   "source": [
    "# Let's what columns are left to work with\n",
    "\n",
    "data.columns"
   ]
  },
  {
   "cell_type": "code",
   "execution_count": null,
   "id": "46cd666a-6f6b-478d-a1a8-f59968f693b7",
   "metadata": {},
   "outputs": [],
   "source": [
    "# Removing unnecessary columns \n",
    "\n",
    "columns_to_remove = ['name', 'hide_score', 'is_original_content', 'author_premium', 'post_hint',\n",
    "                     'link_flair_type', 'author_flair_type', 'domain', 'over_18', 'spoiler',\n",
    "                     'distinguished', 'id', 'author_patreon_flair', 'permalink', 'url',\n",
    "                     'subreddit_subscribers', 'created_utc', 'url_overridden_by_dest', 'score',\n",
    "                     'author_cakeday', 'send_replies', 'stickied', 'edited', 'num_crossposts',\n",
    "                     'no_follow', 'locked', 'author_fullname'\n",
    "                    ]\n",
    "\n",
    "for column in columns_to_remove:\n",
    "    print(\"Removed \" + column)\n",
    "    data.drop(column, inplace=True, axis=1)\n",
    "\n",
    "print(\"\\n\\nColumns left: \" + str(len(data.columns)))"
   ]
  },
  {
   "cell_type": "code",
   "execution_count": null,
   "id": "eeb85633-229a-4cfe-b89e-745c188754e6",
   "metadata": {},
   "outputs": [],
   "source": [
    "# Let's what columns are left to work with\n",
    "\n",
    "data.columns"
   ]
  },
  {
   "cell_type": "code",
   "execution_count": null,
   "id": "b635694b-2e3c-4bb6-8f98-0a6e859b992f",
   "metadata": {},
   "outputs": [],
   "source": [
    "#converting timestamp to date-time format\n",
    "\n",
    "data['created'] = data['created'].apply(lambda timestamp : datetime.datetime.fromtimestamp(timestamp))"
   ]
  },
  {
   "cell_type": "code",
   "execution_count": null,
   "id": "1b2c77ec-d490-410b-8f4f-aad5057e5db7",
   "metadata": {},
   "outputs": [],
   "source": [
    "## Check if the conversion was successfull or not\n",
    "\n",
    "data['created']"
   ]
  },
  {
   "cell_type": "code",
   "execution_count": null,
   "id": "e15ff79a-b64d-4d19-95c0-f090579017f1",
   "metadata": {},
   "outputs": [],
   "source": [
    "# get month from date\n",
    "data['month'] = data['created'].dt.month\n",
    "\n",
    "# get day from date\n",
    "data['day'] = data['created'].dt.day\n",
    "\n",
    "# get hour from date\n",
    "data['hour'] = data['created'].dt.hour\n",
    "\n",
    "# get minute from date\n",
    "data['minute'] = data['created'].dt.minute\n",
    "\n",
    "# get weekday from date\n",
    "data['weekday'] = data['created'].dt.day_name()"
   ]
  },
  {
   "cell_type": "code",
   "execution_count": null,
   "id": "540ee85c-5af1-4914-9754-c3cf21d3fc21",
   "metadata": {},
   "outputs": [],
   "source": [
    "# Let's have a look at the dataset after adding these columns\n",
    "data.head(5)"
   ]
  },
  {
   "cell_type": "code",
   "execution_count": null,
   "id": "672c27ef-2c20-4db7-9c1d-e1a71c597222",
   "metadata": {},
   "outputs": [],
   "source": [
    "# Calculating upvotes and downvotes for posts\n",
    "data['downs'] = round(data['ups'] / data['upvote_ratio'])"
   ]
  },
  {
   "cell_type": "code",
   "execution_count": null,
   "id": "546e4204-1d96-48c8-897f-2cdc38e5ccbd",
   "metadata": {},
   "outputs": [],
   "source": [
    "# Let's have a look at the dataset after adding these columns\n",
    "data.head(5)"
   ]
  },
  {
   "cell_type": "code",
   "execution_count": null,
   "id": "86cc5a96-d1ea-4520-9b46-5049fac8eef9",
   "metadata": {},
   "outputs": [],
   "source": [
    "# Save the DataFrame to a CSV file\n",
    "data.to_csv('processed_data.csv', index=False)"
   ]
  }
 ],
 "metadata": {
  "kernelspec": {
   "display_name": "Python 3 (ipykernel)",
   "language": "python",
   "name": "python3"
  },
  "language_info": {
   "codemirror_mode": {
    "name": "ipython",
    "version": 3
   },
   "file_extension": ".py",
   "mimetype": "text/x-python",
   "name": "python",
   "nbconvert_exporter": "python",
   "pygments_lexer": "ipython3",
   "version": "3.11.3"
  }
 },
 "nbformat": 4,
 "nbformat_minor": 5
}
